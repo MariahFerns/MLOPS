{
  "nbformat": 4,
  "nbformat_minor": 0,
  "metadata": {
    "colab": {
      "provenance": []
    },
    "kernelspec": {
      "name": "python3",
      "display_name": "Python 3"
    },
    "language_info": {
      "name": "python"
    }
  },
  "cells": [
    {
      "cell_type": "markdown",
      "source": [
        "trained model\n",
        "before deployment -> perform pytest\n",
        "\n",
        "for given i/p -> what o/p is expected"
      ],
      "metadata": {
        "id": "JnH2LgBHEpHf"
      }
    },
    {
      "cell_type": "code",
      "execution_count": 2,
      "metadata": {
        "id": "Oe6D1b8zEVu6"
      },
      "outputs": [],
      "source": [
        "!pip -q install pytest-sugar"
      ]
    },
    {
      "cell_type": "code",
      "source": [
        "# move to tdd directory\n",
        "\n",
        "from pathlib import Path\n",
        "if Path.cwd().name != 'tdd':\n",
        "    %mkdir tdd\n",
        "    %cd tdd\n",
        "\n",
        "%pwd"
      ],
      "metadata": {
        "colab": {
          "base_uri": "https://localhost:8080/",
          "height": 53
        },
        "id": "arGm6ckXE9qz",
        "outputId": "1b194df4-1255-449c-b8ce-f1f43f4f1ec3"
      },
      "execution_count": 3,
      "outputs": [
        {
          "output_type": "stream",
          "name": "stdout",
          "text": [
            "/content/tdd\n"
          ]
        },
        {
          "output_type": "execute_result",
          "data": {
            "text/plain": [
              "'/content/tdd'"
            ],
            "application/vnd.google.colaboratory.intrinsic+json": {
              "type": "string"
            }
          },
          "metadata": {},
          "execution_count": 3
        }
      ]
    },
    {
      "cell_type": "code",
      "source": [
        "# cleanup all files\n",
        "\n",
        "%rm *.py"
      ],
      "metadata": {
        "id": "2OpOv7eCFezX"
      },
      "execution_count": null,
      "outputs": []
    },
    {
      "cell_type": "markdown",
      "source": [
        "**Sample 1**"
      ],
      "metadata": {
        "id": "Sey79AdrIFJN"
      }
    },
    {
      "cell_type": "code",
      "source": [
        "%%file test_math.py\n",
        "\n",
        "\n",
        "import math\n",
        "\n",
        "def test_add():\n",
        "  assert 1+1 == 2\n",
        "\n",
        "def test_mul():\n",
        "  assert 6*7 == 42\n",
        "\n",
        "def test_sin():\n",
        "  assert math.sin(0) == 0"
      ],
      "metadata": {
        "colab": {
          "base_uri": "https://localhost:8080/"
        },
        "id": "VGzlC78PFexR",
        "outputId": "d8eba8e0-ffd2-4baf-9975-3d1e5b49b9c9"
      },
      "execution_count": 4,
      "outputs": [
        {
          "output_type": "stream",
          "name": "stdout",
          "text": [
            "Writing test_math.py\n"
          ]
        }
      ]
    },
    {
      "cell_type": "code",
      "source": [
        "!python -m pytest test_math.py"
      ],
      "metadata": {
        "colab": {
          "base_uri": "https://localhost:8080/"
        },
        "id": "dnbxFv7GFeuu",
        "outputId": "76cb29ee-004a-4ead-c9db-4fa93c0b0ab4"
      },
      "execution_count": 6,
      "outputs": [
        {
          "output_type": "stream",
          "name": "stdout",
          "text": [
            "\u001b[1mTest session starts (platform: linux, Python 3.11.11, pytest 8.3.4, pytest-sugar 1.0.0)\u001b[0m\n",
            "rootdir: /content/tdd\n",
            "plugins: sugar-1.0.0, typeguard-4.4.1, anyio-3.7.1, langsmith-0.3.6\n",
            "\u001b[1mcollecting ... \u001b[0m\u001b[1m\rcollected 3 items                                                                                  \u001b[0m\n",
            "\r\n",
            "\r \u001b[36m\u001b[0mtest_math.py\u001b[0m \u001b[32m✓\u001b[0m                                                                       \u001b[32m33% \u001b[0m\u001b[40m\u001b[32m█\u001b[0m\u001b[40m\u001b[32m██▍      \u001b[0m\r \u001b[36m\u001b[0mtest_math.py\u001b[0m \u001b[32m✓\u001b[0m\u001b[32m✓\u001b[0m                                                                      \u001b[32m67% \u001b[0m\u001b[40m\u001b[32m█\u001b[0m\u001b[40m\u001b[32m██\u001b[0m\u001b[40m\u001b[32m█\u001b[0m\u001b[40m\u001b[32m██▋   \u001b[0m\r \u001b[36m\u001b[0mtest_math.py\u001b[0m \u001b[32m✓\u001b[0m\u001b[32m✓\u001b[0m\u001b[32m✓\u001b[0m                                                                    \u001b[32m100% \u001b[0m\u001b[40m\u001b[32m█\u001b[0m\u001b[40m\u001b[32m██\u001b[0m\u001b[40m\u001b[32m█\u001b[0m\u001b[40m\u001b[32m██\u001b[0m\u001b[40m\u001b[32m█\u001b[0m\u001b[40m\u001b[32m███\u001b[0m\n",
            "\n",
            "Results (0.02s):\n",
            "\u001b[32m       3 passed\u001b[0m\n"
          ]
        }
      ]
    },
    {
      "cell_type": "markdown",
      "source": [
        "**Sample 2**"
      ],
      "metadata": {
        "id": "29REQ3cfIHLS"
      }
    },
    {
      "cell_type": "code",
      "source": [
        "%%writefile pytest_parametrize.py\n",
        "\n",
        "import pytest\n",
        "\n",
        "def text_contain_word(word: str, text:str):\n",
        "  '''Find whether the text contains a particular word'''\n",
        "  return word in text\n",
        "\n",
        "test = [\n",
        "    ('There is a duck in this text', True),\n",
        "    ('There is nothing here', False)\n",
        "]\n",
        "\n",
        "@pytest.mark.parametrize('sample, expected', test)\n",
        "def test_text_contain_word(sample, expected):\n",
        "\n",
        "  word = 'duck'\n",
        "\n",
        "  assert text_contain_word(word, sample) == expected"
      ],
      "metadata": {
        "colab": {
          "base_uri": "https://localhost:8080/"
        },
        "id": "SJbAOEAqFesR",
        "outputId": "0bbd6f24-841e-4736-9dfa-cf592a7b14f7"
      },
      "execution_count": 7,
      "outputs": [
        {
          "output_type": "stream",
          "name": "stdout",
          "text": [
            "Writing pytest_parametrize.py\n"
          ]
        }
      ]
    },
    {
      "cell_type": "code",
      "source": [
        "!pytest -v pytest_parametrize.py"
      ],
      "metadata": {
        "colab": {
          "base_uri": "https://localhost:8080/"
        },
        "id": "SIxsm02-HjCT",
        "outputId": "575e5e10-0f7b-47b5-8bd9-43b2cc29810c"
      },
      "execution_count": 8,
      "outputs": [
        {
          "output_type": "stream",
          "name": "stdout",
          "text": [
            "\u001b[1mTest session starts (platform: linux, Python 3.11.11, pytest 8.3.4, pytest-sugar 1.0.0)\u001b[0m\n",
            "cachedir: .pytest_cache\n",
            "rootdir: /content/tdd\n",
            "plugins: sugar-1.0.0, typeguard-4.4.1, anyio-3.7.1, langsmith-0.3.6\n",
            "\u001b[1mcollecting ... \u001b[0m\u001b[1m\rcollected 2 items                                                                                  \u001b[0m\n",
            "\r\n",
            "\r \u001b[36mpytest_parametrize.py\u001b[0m::test_text_contain_word[There is a duck in this text-True]\u001b[0m \u001b[32m✓\u001b[0m   \u001b[32m50% \u001b[0m\u001b[40m\u001b[32m█\u001b[0m\u001b[40m\u001b[32m████     \u001b[0m\r\n",
            "\r \u001b[36mpytest_parametrize.py\u001b[0m::test_text_contain_word[There is nothing here-False]\u001b[0m \u001b[32m✓\u001b[0m        \u001b[32m100% \u001b[0m\u001b[40m\u001b[32m█\u001b[0m\u001b[40m\u001b[32m████\u001b[0m\u001b[40m\u001b[32m█\u001b[0m\u001b[40m\u001b[32m████\u001b[0m\n",
            "\n",
            "Results (0.02s):\n",
            "\u001b[32m       2 passed\u001b[0m\n"
          ]
        }
      ]
    },
    {
      "cell_type": "markdown",
      "source": [
        "**Fixture in pytest**"
      ],
      "metadata": {
        "id": "aTXnJsISINib"
      }
    },
    {
      "cell_type": "code",
      "source": [
        "import pytest\n",
        "\n",
        "# fixtures return values that can be passed to the test function as parameters\n",
        "\n",
        "@pytest.fixture\n",
        "def sample_data():\n",
        "  return [1,2,3,4,5]\n",
        "\n",
        "\n",
        "def test_sum(sample_data):\n",
        "  assert sum(sample_data) == 15\n"
      ],
      "metadata": {
        "id": "D7rh9Cp0IRwo"
      },
      "execution_count": null,
      "outputs": []
    },
    {
      "cell_type": "markdown",
      "source": [
        "**Testing done for applications (ML/ Software/ Webapps)**\n",
        "\n",
        "1. unit test: test individual functions/ classes\n",
        "2. Integration test: i/p of 1 module used in another\n",
        "3. End to End test: simulate whole workflow of the application"
      ],
      "metadata": {
        "id": "dukz-WMfJRJP"
      }
    },
    {
      "cell_type": "markdown",
      "source": [
        "e.g. LLM model using API -\n",
        "created a test -> check each time API is working or not\n",
        "checking for model drift\n",
        "\n",
        "Tests:\n",
        "1. Ensure Code Quality: unit test -> code behaves as expected -> catch bugs\n",
        "2. Testing data processing pipelines: data quality is correct or not eg expected string, missing data, outlier filtering\n",
        "3. ML Code: Unit test -> never done as it is tricky\n",
        "4. Testin API and services -> sending/ pinging APIs to check if it gives expected response\n",
        "5. Test model output -> data drift\n"
      ],
      "metadata": {
        "id": "mMv06ZSaLK-6"
      }
    }
  ]
}