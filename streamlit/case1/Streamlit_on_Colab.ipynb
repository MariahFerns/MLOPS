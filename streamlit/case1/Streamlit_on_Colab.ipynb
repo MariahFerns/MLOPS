{
  "nbformat": 4,
  "nbformat_minor": 0,
  "metadata": {
    "colab": {
      "provenance": []
    },
    "kernelspec": {
      "name": "python3",
      "display_name": "Python 3"
    },
    "language_info": {
      "name": "python"
    }
  },
  "cells": [
    {
      "cell_type": "code",
      "execution_count": 23,
      "metadata": {
        "id": "cLFSVpQ8sz53"
      },
      "outputs": [],
      "source": [
        "# ! pip install streamlit\n",
        "\n",
        "import streamlit as st"
      ]
    },
    {
      "cell_type": "markdown",
      "source": [
        "**Demo to create an application in which the user can gie 2 inputs and output is the +, -, /, * of 2 numbers**"
      ],
      "metadata": {
        "id": "YXwSDt5FuMlX"
      }
    },
    {
      "cell_type": "code",
      "source": [
        "%%writefile app.py\n",
        "\n",
        "import streamlit as st\n",
        "\n",
        "st.write('# Streamlit Basic Calculator')\n",
        "\n",
        "# input 2 numbers\n",
        "number1 = st.number_input('Enter first number', value=0)\n",
        "number2 = st.number_input('Enter second number', value=0)\n",
        "\n",
        "# initialize variables\n",
        "add=None\n",
        "sub=None\n",
        "mul=None\n",
        "div=None\n",
        "\n",
        "# perform the calculations\n",
        "if number1 is not None and number2 is not None:\n",
        "  add = number1 + number2\n",
        "  sub = number1 - number2\n",
        "  mul = number1 * number2\n",
        "  # handle division by 0\n",
        "  if number2 == 0:\n",
        "    div = 'undefined (cannot divide by zero)'\n",
        "  else:\n",
        "    div = number1 / number2\n",
        "\n",
        "# Display my results\n",
        "st.write(f'The addition of {number1} and {number2} is {add}')\n",
        "st.write(f'The subtraction of {number1} and {number2} is {sub}')\n",
        "st.write(f'The multiplication of {number1} and {number2} is {mul}')\n",
        "st.write(f'The division of {number1} and {number2} is {div}')"
      ],
      "metadata": {
        "colab": {
          "base_uri": "https://localhost:8080/"
        },
        "id": "m9It-c2ztRO_",
        "outputId": "a9ebb911-5417-48fb-9608-4d6d44e50d1e"
      },
      "execution_count": 29,
      "outputs": [
        {
          "output_type": "stream",
          "name": "stdout",
          "text": [
            "Overwriting app.py\n"
          ]
        }
      ]
    },
    {
      "cell_type": "markdown",
      "source": [
        "**Deploy the calculator**"
      ],
      "metadata": {
        "id": "JmMyx9ATv_JI"
      }
    },
    {
      "cell_type": "code",
      "source": [
        "# wget -> download file from internet\n",
        "# -q -> quiet mode\n",
        "# -O -> where output to be saved\n",
        "# ipv4.icanhazip.com -> return public IPv4 address of machine running the script\n",
        "                  #  -> not required if runnning from local\n",
        "\n",
        "!wget -q -O - ipv4.icanhazip.com"
      ],
      "metadata": {
        "colab": {
          "base_uri": "https://localhost:8080/"
        },
        "id": "lkRgNVx6v6U2",
        "outputId": "fab19f3a-4358-48a2-d80f-1c6744a05b49"
      },
      "execution_count": 25,
      "outputs": [
        {
          "output_type": "stream",
          "name": "stdout",
          "text": [
            "34.45.113.95\n"
          ]
        }
      ]
    },
    {
      "cell_type": "code",
      "source": [
        "# !streamlit run app.py\n",
        "# this will not pop up  a new window from colab\n",
        "\n",
        "\n",
        "!streamlit run app.py & npx localtunnel --port 8501\n",
        "\n",
        "# npx -> run a package on node.js\n",
        "# localtunnel -> allows to secure a public url for a local webapp. External URL matches what we got above\n",
        "#                tunnel password is the IP\n",
        "# port 8501 -> give access to the internet over an external url"
      ],
      "metadata": {
        "colab": {
          "base_uri": "https://localhost:8080/"
        },
        "id": "YHf-EheUwiWo",
        "outputId": "1230dd65-fab6-47b2-b390-13c6eebffcbf"
      },
      "execution_count": 28,
      "outputs": [
        {
          "output_type": "stream",
          "name": "stdout",
          "text": [
            "\n",
            "Collecting usage statistics. To deactivate, set browser.gatherUsageStats to false.\n",
            "\u001b[0m\n",
            "\u001b[1G\u001b[0K⠙\u001b[1G\u001b[0K⠹\u001b[0m\n",
            "\u001b[34m\u001b[1m  You can now view your Streamlit app in your browser.\u001b[0m\n",
            "\u001b[0m\n",
            "\u001b[34m  Local URL: \u001b[0m\u001b[1mhttp://localhost:8501\u001b[0m\n",
            "\u001b[34m  Network URL: \u001b[0m\u001b[1mhttp://172.28.0.12:8501\u001b[0m\n",
            "\u001b[34m  External URL: \u001b[0m\u001b[1mhttp://34.45.113.95:8501\u001b[0m\n",
            "\u001b[0m\n",
            "\u001b[1G\u001b[0K⠸\u001b[1G\u001b[0K⠼\u001b[1G\u001b[0K⠴\u001b[1G\u001b[0K⠦\u001b[1G\u001b[0Kyour url is: https://busy-bats-laugh.loca.lt\n",
            "\u001b[34m  Stopping...\u001b[0m\n",
            "^C\n"
          ]
        }
      ]
    }
  ]
}